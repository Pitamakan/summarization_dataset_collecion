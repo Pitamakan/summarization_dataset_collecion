{
 "cells": [
  {
   "cell_type": "markdown",
   "metadata": {},
   "source": [
    "## Pipeline for collecting text summarization dataset"
   ]
  },
  {
   "cell_type": "markdown",
   "metadata": {},
   "source": [
    "The main goal of the pipeline is to get a dataset from text-summarization pairs for further use in NLP models.\n",
    "We work with texts of length 4000-8000 letters."
   ]
  },
  {
   "cell_type": "markdown",
   "metadata": {},
   "source": [
    "## Decomposition\n",
    "\n",
    "For this task we need to decompose work for some parts, for example as shown in the figure below\n",
    "\n",
    "<table  align=\"center\">\n",
    "  <tr><td>\n",
    "    <img src=\"./pictures/pipeline.png\"\n",
    "         alt=\"Pipeline\"  width=\"1200\">\n",
    "  </td></tr>\n",
    "</table>\n",
    "\n",
    "### Input data\n",
    "Any texts can be used. But we should expect that the results are better for smaller texts. In this example, parsed texts from various pages in Russian will be used.  \n",
    "\n",
    "It is also not recommended to use texts from Wikipedia as input data, since they are already quite small and informative and it is difficult to squeeze more out of them."
   ]
  },
  {
   "cell_type": "code",
   "execution_count": null,
   "metadata": {},
   "outputs": [],
   "source": [
    "import toloka.client as toloka\n",
    "import toloka.client.project.template_builder as tb\n",
    "import datetime\n",
    "import os"
   ]
  },
  {
   "cell_type": "code",
   "execution_count": null,
   "metadata": {},
   "outputs": [],
   "source": [
    "LANGUAGE=\"ru\""
   ]
  },
  {
   "cell_type": "markdown",
   "metadata": {},
   "source": [
    "For next step you need to have requester account at [Toloka](https://toloka.yandex.com).  \n",
    "\n",
    "If you don't have account you can read instruction for registration [here](https://www.google.com)"
   ]
  },
  {
   "cell_type": "code",
   "execution_count": null,
   "metadata": {},
   "outputs": [],
   "source": [
    "token = input(\"Enter your token:\")\n",
    "sandbox = True if input(\"Enter s - for sandbox or p - for production\") == 's' else False\n",
    "domain = 'https://sandbox.toloka.yandex.com' if sandbox else 'https://toloka.yandex.com'\n",
    "toloka_client = toloka.TolokaClient(token, 'SANDBOX' if sandbox else 'PRODUCTION')  # or switch to PRODUCTION\n",
    "print(toloka_client.get_requester())"
   ]
  },
  {
   "cell_type": "markdown",
   "metadata": {},
   "source": [
    "### Prepare text data\n",
    "\n",
    "In this example as input data we have file with json-strings. In each row json of the following type: `{\"text\": \"###\", \"url\": \"###\" }`  \n",
    "\n",
    "Your data could be in the other format. But in this case you need to write iterator by texts of your dataset.\n",
    "\n",
    "Also we use only texts with lenght 4-8 thousands just for examplel, for you needs you can use texts of any length."
   ]
  },
  {
   "cell_type": "code",
   "execution_count": null,
   "metadata": {},
   "outputs": [],
   "source": [
    "filename = 'data/input'\n",
    "min_len = 4000\n",
    "max_len = 8000\n",
    "texts = []\n",
    "\n",
    "with open(filename) as file:\n",
    "    while True:\n",
    "        line = file.readline()\n",
    "        if not line:\n",
    "            break\n",
    "        json_string = json.loads(line)\n",
    "        if (min_len <= len(json_string[\"text\"]) <= max_len):\n",
    "            text = json_string[\"text\"]\n",
    "            text = text.replace('\\n', '<br>').replace('\\t', '')\n",
    "            text_id = hash(text)\n",
    "            texts.append((text, text_id))\n",
    "        \n",
    "print(f'Texts count: {len(texts)}')"
   ]
  },
  {
   "cell_type": "markdown",
   "metadata": {},
   "source": [
    "### 0. Prevalidation project"
   ]
  },
  {
   "cell_type": "markdown",
   "metadata": {},
   "source": [
    "In this step we want to exclude bad texts. For example such texts as: product composition, instructions for the medicine, song translates are not good for summarization task.  \n",
    "\n",
    "In this project performes will be asked about quality of input text.\n",
    "\n",
    "In our project we use creation of project with \"Interface configuration block\" instead of \"Constructor configuration\", because of hard view of our projects. Some of them harder to make by \"Constructor configuration\".\n",
    "After creation of project , if you need, you can edit some details at the page of project"
   ]
  },
  {
   "cell_type": "code",
   "execution_count": null,
   "metadata": {},
   "outputs": [],
   "source": [
    "# slyles for project. css-block, that you can see, if you create project at Toloka.ai\n",
    "with open(f\"projects/prevalidation/{LANGUAGE}/page.css\", \"r\", encoding=\"utf-8\") as f:\n",
    "    prevalidation_page_styles = f.read()\n",
    "\n",
    "# html of project\n",
    "with open(f\"projects/prevalidation/{LANGUAGE}/page.html\", \"r\", encoding=\"utf-8\") as f:\n",
    "    prevalidation_page_text = f.read()\n",
    "\n",
    "# script for project\n",
    "with open(f\"projects/prevalidation/{LANGUAGE}/page.js\", \"r\", encoding=\"utf-8\") as f:\n",
    "    prevalidation_page_script = f.read()\n",
    "\n",
    "# Input of project\n",
    "# text - full text, that would be validate \n",
    "# text_id - some identificator of text, we use hash for this goal\n",
    "prevalidation_input_spec = {\n",
    "    \"text\": toloka.project.field_spec.StringSpec(required=True),\n",
    "    \"text_id\": toloka.project.field_spec.IntSpec(required=True),\n",
    "}\n",
    "\n",
    "# Output of project\n",
    "# bool answer to the question \"Is text good enough for summarize if?\"\n",
    "prevalidation_output_spec = {\n",
    "    'summarizable': toloka.project.field_spec.BoolSpec(required=True),\n",
    "}\n",
    "\n",
    "# Сreate view of project from declared variables\n",
    "# assets - additional files that can be added for project(\"gear-button\" at project editing at toloka.ai)\n",
    "prevalidation_view_spec = toloka.project.view_spec.ClassicViewSpec(\n",
    "    script=prevalidation_page_script,\n",
    "    markup=prevalidation_page_text,\n",
    "    styles=prevalidation_page_styles,\n",
    "    assets=toloka.project.view_spec.ClassicViewSpec.Assets(\n",
    "            style_urls=[\"https://storage.mds.yandex.net/get-ang2-data/40144/static/material-icons.css?content_type=text/css\"],\n",
    "            script_urls=[\"$TOLOKA_ASSETS/js/toloka-handlebars-templates.js\"]\n",
    "        )\n",
    ")\n",
    "\n",
    "# Create project by its view. Also add name, short description and instruction of project\n",
    "prevalidation_project = toloka.project.Project(\n",
    "    assignments_issuing_type=toloka.project.Project.AssignmentsIssuingType.AUTOMATED,\n",
    "    public_name=open(f\"projects/prevalidation/{LANGUAGE}/name.txt\", encoding=\"utf-8\").read().strip(),\n",
    "    public_description=open(f\"projects/prevalidation/{LANGUAGE}/comment.txt\", encoding=\"utf-8\").read().strip(),\n",
    "    public_instructions=open(f\"projects/prevalidation/{LANGUAGE}/instruction.html\", encoding=\"utf-8\").read().strip(),\n",
    "    \n",
    "    task_spec=toloka.project.task_spec.TaskSpec(\n",
    "        input_spec=training_input_spec,\n",
    "        output_spec=training_output_spec,\n",
    "        view_spec=training_view_spec,\n",
    "    ),\n",
    ")"
   ]
  },
  {
   "cell_type": "code",
   "execution_count": null,
   "metadata": {},
   "outputs": [],
   "source": [
    "# Create project on your account at toloka.yandex.com\n",
    "prevalidation_project = toloka_client.create_project(prevalidation_project)\n",
    "print(f'Created prevalidation project with id {prevalidation_project.id}')\n",
    "print(f'For preview your project open {domain}/requester/project/{prevalidation_project.id}')"
   ]
  },
  {
   "cell_type": "markdown",
   "metadata": {},
   "source": [
    "### Prevalidation pool"
   ]
  },
  {
   "cell_type": "code",
   "execution_count": null,
   "metadata": {},
   "outputs": [],
   "source": [
    "# Setting up pool\n",
    "prevalidation_pool = toloka.pool.Pool(\n",
    "    project_id=training_project.id,\n",
    "    private_name='Training for text summarization',\n",
    "    may_contain_adult_content=True,\n",
    "    will_expire=datetime.datetime.utcnow() + datetime.timedelta(days=365),\n",
    "    reward_per_assignment=0.01,\n",
    "    auto_accept_solutions=True,\n",
    "    assignment_max_duration_seconds=60*15,\n",
    "    defaults=toloka.pool.Pool.Defaults(\n",
    "        default_overlap_for_new_task_suites=3\n",
    "    ),\n",
    "    filter=toloka.filter.FilterAnd([\n",
    "        toloka.filter.Languages.in_(LANGUAGE.upper()),\n",
    "        toloka.filter.ClientType.eq(toloka.filter.ClientType.ClientType.BROWSER),\n",
    "    ])\n",
    ")\n",
    "\n",
    "# Setting task mixing configuration\n",
    "prevalidation_pool.set_mixer_config(\n",
    "    real_tasks_count=5,\n",
    "    golden_tasks_count=0,\n",
    "    training_tasks_count=0\n",
    ")\n",
    "\n",
    "prevalidation_pool.quality_control.add_action(\n",
    "    collector=toloka.collectors.MajorityVote(answer_threshold=2),\n",
    "    conditions=[\n",
    "        toloka.conditions.TotalAnswersCount > 9,\n",
    "        toloka.conditions.CorrectAnswersRate < 60,\n",
    "    ],\n",
    "    action=toloka.actions.RejectAllAssignments(public_comment='Too low quality')\n",
    ")"
   ]
  },
  {
   "cell_type": "code",
   "execution_count": null,
   "metadata": {},
   "outputs": [],
   "source": [
    "prevalidation_pool = toloka_client.create_pool(prevalidation_pool)\n",
    "print(f'Created prevalidation poll with id {prevalidation_pool.id}')\n",
    "print(f'For preview your pool open {domain}/requester/project/{prevalidation_project.id}/pool/{prevalidation_pool.id}')"
   ]
  },
  {
   "cell_type": "markdown",
   "metadata": {},
   "source": [
    "### 1. Training/Exam projects"
   ]
  },
  {
   "cell_type": "markdown",
   "metadata": {},
   "source": [
    "Summarization task is quite complicated. That's why, we should give an example for performers.\n",
    "\n",
    "Also at this step we want to filter performers, who shows a bad perfomance with such type of task.\n",
    "So, we will give text with 2 response options, and performer should choose just one of them.\n",
    "\n",
    "Some points for training/exam task at that project:\n",
    "- Performers more often choose longer answer, so some right answers should be shorter\n",
    "- Abrupt sentences are bad for our task and better give them as wrong anwser\n",
    "- Don't give a lot tasks for free trainig, if you want better performers - prefer to use paid exam\n",
    "\n",
    "\n",
    "<table  align=\"center\">\n",
    "  <tr><td>\n",
    "    <img src=\"./pictures/training.png\"\n",
    "         alt=\"Pipeline\"  width=\"1200\">\n",
    "  </td></tr>\n",
    "</table>"
   ]
  },
  {
   "cell_type": "code",
   "execution_count": null,
   "metadata": {},
   "outputs": [],
   "source": [
    "with open(f\"projects/training/{LANGUAGE}/page.css\", \"r\", encoding=\"utf-8\") as f:\n",
    "    training_page_styles = f.read()\n",
    "\n",
    "with open(f\"projects/training/{LANGUAGE}/page.html\", \"r\", encoding=\"utf-8\") as f:\n",
    "    training_page_text = f.read()\n",
    "    \n",
    "with open(f\"projects/training/{LANGUAGE}/page.js\", \"r\", encoding=\"utf-8\") as f:\n",
    "    training_page_script = f.read()\n",
    "\n",
    "training_input_spec = {\n",
    "    \"paragraph\": toloka.project.field_spec.StringSpec(required=True),\n",
    "    \"summary1\": toloka.project.field_spec.StringSpec(required=True),\n",
    "    \"summary2\": toloka.project.field_spec.StringSpec(required=True),\n",
    "}\n",
    "\n",
    "training_output_spec = {\n",
    "    'result': toloka.project.field_spec.StringSpec(required=True),\n",
    "}\n",
    "\n",
    "training_view_spec = toloka.project.view_spec.ClassicViewSpec(\n",
    "    script=training_page_script,\n",
    "    markup=training_page_text,\n",
    "    styles=training_page_styles,\n",
    "    assets=toloka.project.view_spec.ClassicViewSpec.Assets(\n",
    "            style_urls=[\"https://storage.mds.yandex.net/get-ang2-data/40144/static/material-icons.css?content_type=text/css\"],\n",
    "            script_urls=[\"$TOLOKA_ASSETS/js/toloka-handlebars-templates.js\"]\n",
    "        )\n",
    ")\n",
    "\n",
    "training_project = toloka.project.Project(\n",
    "    assignments_issuing_type=toloka.project.Project.AssignmentsIssuingType.AUTOMATED,\n",
    "    public_name=open(f\"projects/training/{LANGUAGE}/name.txt\", encoding=\"utf-8\").read().strip(),\n",
    "    public_description=open(f\"projects/training/{LANGUAGE}/comment.txt\", encoding=\"utf-8\").read().strip(),\n",
    "    public_instructions=open(f\"projects/training/{LANGUAGE}/instruction.html\", encoding=\"utf-8\").read().strip(),\n",
    "    \n",
    "    task_spec=toloka.project.task_spec.TaskSpec(\n",
    "        input_spec=training_input_spec,\n",
    "        output_spec=training_output_spec,\n",
    "        view_spec=training_view_spec,\n",
    "    ),\n",
    ")"
   ]
  },
  {
   "cell_type": "code",
   "execution_count": null,
   "metadata": {},
   "outputs": [],
   "source": [
    "# Create project on your account at toloka.yandex.com\n",
    "training_project = toloka_client.create_project(training_project)\n",
    "print(f'Created prevalidation project with id {training_project.id}')\n",
    "print(f'For preview your project open {domain}/requester/project/{training_project.id}')"
   ]
  },
  {
   "cell_type": "markdown",
   "metadata": {},
   "source": [
    "There we want to create a new *skill*. \n",
    "\n",
    "*Skills* are used for filter performers. Because views of our training and our main project are differ we can't use \"Training pool\" at main project.  \n",
    "\n",
    "And that's why we create new skill. After training and exam, performer get some level of skill. And this level used for access to main project"
   ]
  },
  {
   "cell_type": "code",
   "execution_count": null,
   "metadata": {},
   "outputs": [],
   "source": [
    "# create new skill to filter performers in main project\n",
    "skill_name = 'Text summarization'\n",
    "summ_skill = next(toloka_client.get_skills(name=skill_name), None)\n",
    "\n",
    "if summ_skill:\n",
    "    print('Skill already exists')\n",
    "else:\n",
    "    print('Creating new skill')\n",
    "    summ_skill = toloka_client.create_skill(\n",
    "        name=skill_name,\n",
    "        hidden=True,\n",
    "    )"
   ]
  },
  {
   "cell_type": "code",
   "execution_count": null,
   "metadata": {
    "scrolled": true
   },
   "outputs": [],
   "source": [
    "# Setting up pool\n",
    "training_pool = toloka.pool.Pool(\n",
    "    project_id=training_project.id,\n",
    "    private_name='Training for text summarization',\n",
    "    may_contain_adult_content=True,\n",
    "    will_expire=datetime.datetime.utcnow() + datetime.timedelta(days=365),\n",
    "    reward_per_assignment=0.00,\n",
    "    auto_accept_solutions=True,\n",
    "    assignment_max_duration_seconds=60*15,\n",
    "    defaults=toloka.pool.Pool.Defaults(\n",
    "        default_overlap_for_new_task_suites=3\n",
    "    ),\n",
    "    filter=toloka.filter.FilterAnd([\n",
    "        toloka.filter.Languages.in_(LANGUAGE.upper()),\n",
    "        toloka.filter.ClientType.eq(toloka.filter.ClientType.ClientType.BROWSER),\n",
    "    ])\n",
    ")\n",
    "\n",
    "# Setting task mixing configuration\n",
    "training_pool.set_mixer_config(\n",
    "    real_tasks_count=5,\n",
    "    golden_tasks_count=5,\n",
    "    training_tasks_count=5\n",
    ")\n",
    "\n",
    "# We want to give skill level just for performers, who have a good results\n",
    "training_pool.quality_control.add_action(\n",
    "    collector=toloka.collectors.AcceptanceRate(),\n",
    "    conditions=[\n",
    "        toloka.conditions.TotalAssignmentsCount > 2,\n",
    "        toloka.conditions.AcceptedAssignmentsRate > 50,\n",
    "    ],\n",
    "    action=toloka.actions.SetSkill(skill_id=summ_skill.id, skill_value=100),\n",
    ")"
   ]
  },
  {
   "cell_type": "code",
   "execution_count": null,
   "metadata": {},
   "outputs": [],
   "source": [
    "training_pool = toloka_client.create_pool(training_pool)\n",
    "print(f'Created training pool with id {training_pool.id}')\n",
    "print(f'For preview your pool open {domain}/requester/project/{training_pool.id}/pool/{training_pool.id}')"
   ]
  },
  {
   "cell_type": "markdown",
   "metadata": {},
   "source": [
    "### 2.1. Summarization by small paragraphs"
   ]
  },
  {
   "cell_type": "markdown",
   "metadata": {},
   "source": [
    "Write summarization for large text is very difficult task. And experiements show, that performers show bad resutls at such tasks.\n",
    "\n",
    "In order to solve this problem we separate texts to paragraphs. 1.5-2 thousands letter each.\n",
    "\n",
    "Also performers will see full text with higlighted fragment, it is necessary to save context."
   ]
  },
  {
   "cell_type": "markdown",
   "metadata": {},
   "source": [
    "<table  align=\"center\">\n",
    "  <tr><td>\n",
    "    <img src=\"./pictures/summarization.png\"\n",
    "         alt=\"Pipeline\"  width=\"1200\">\n",
    "  </td></tr>\n",
    "</table>"
   ]
  },
  {
   "cell_type": "code",
   "execution_count": null,
   "metadata": {},
   "outputs": [],
   "source": [
    "with open(f\"projects/summarization_small/{LANGUAGE}/page.css\", \"r\", encoding=\"utf-8\") as f:\n",
    "    summarization_page_styles = f.read()\n",
    "\n",
    "with open(f\"projects/summarization_small/{LANGUAGE}/page.html\", \"r\", encoding=\"utf-8\") as f:\n",
    "    summarization_page_text = f.read()\n",
    "    \n",
    "with open(f\"projects/summarization_small/{LANGUAGE}/page.css\", \"r\", encoding=\"utf-8\") as f:\n",
    "    summarization_page_script = f.read()\n",
    "\n",
    "    \n",
    "# text_id - some id of text\n",
    "# paragraph_id - serial number of paragraph in text, needed to connect answer in right order\n",
    "# paragraph - text of paragraph\n",
    "# text_full - full text, where current paragraph highlighted\n",
    "summarization_input_spec = {\n",
    "    \"text_id\": toloka.project.field_spec.IntegerSpec(required=True),\n",
    "    \"paragraph_id\": toloka.project.field_spec.IntegerSpec(required=True),\n",
    "    \"paragraph\": toloka.project.field_spec.StringSpec(required=True),\n",
    "    \"text_full\": toloka.project.field_spec.StringSpec(required=True),\n",
    "}\n",
    "\n",
    "summarization_output_spec = {\n",
    "    'summary': toloka.project.field_spec.StringSpec(required=True),\n",
    "}\n",
    "\n",
    "summarization_view_spec = toloka.project.view_spec.ClassicViewSpec(\n",
    "    script=summarization_page_script,\n",
    "    markup=summarization_page_text,\n",
    "    styles=summarization_page_styles,\n",
    "    assets=toloka.project.view_spec.ClassicViewSpec.Assets(\n",
    "            script_urls=[\"$TOLOKA_ASSETS/js/toloka-handlebars-templates.js\"]\n",
    "        )\n",
    ")\n",
    "\n",
    "summarization_project = toloka.project.Project(\n",
    "    assignments_issuing_type=toloka.project.Project.AssignmentsIssuingType.AUTOMATED,\n",
    "    public_name=open(f\"projects/summarization_small/{LANGUAGE}/name.txt\", encoding=\"utf-8\").read().strip(),\n",
    "    public_description=open(f\"projects/summarization_small/{LANGUAGE}/comment.txt\", encoding=\"utf-8\").read().strip(),\n",
    "    public_instructions=open(f\"projects/summarization_small/{LANGUAGE}/instruction.html\", encoding=\"utf-8\").read().strip(),\n",
    "    \n",
    "    task_spec=toloka.project.task_spec.TaskSpec(\n",
    "        input_spec=summarization_input_spec,\n",
    "        output_spec=summarization_output_spec,\n",
    "        view_spec=summarization_view_spec,\n",
    "    ),\n",
    ")"
   ]
  },
  {
   "cell_type": "code",
   "execution_count": null,
   "metadata": {},
   "outputs": [],
   "source": [
    "# Create project on your account at toloka.yandex.com\n",
    "summarization_project = toloka_client.create_project(summarization_project)\n",
    "print(f'Created prevalidation project with id {summarization_project.id}')\n",
    "print(f'For preview your project open {domain}/requester/project/{summarization_project.id}')"
   ]
  },
  {
   "cell_type": "markdown",
   "metadata": {},
   "source": [
    "### Summarization pool"
   ]
  },
  {
   "cell_type": "code",
   "execution_count": null,
   "metadata": {},
   "outputs": [],
   "source": [
    "# Setting up pool\n",
    "summarization_pool = toloka.pool.Pool(\n",
    "    project_id=summarization_project.id,\n",
    "    private_name='Summarization paragraphs',\n",
    "    may_contain_adult_content=True,\n",
    "    will_expire=datetime.datetime.utcnow() + datetime.timedelta(days=365),\n",
    "    reward_per_assignment=0.02,\n",
    "    auto_accept_solutions=True,\n",
    "    assignment_max_duration_seconds=60*15,\n",
    "    defaults=toloka.pool.Pool.Defaults(\n",
    "        default_overlap_for_new_task_suites=2\n",
    "    ),\n",
    "    filter=toloka.filter.FilterAnd([\n",
    "        toloka.filter.Languages.in_(LANGUAGE.upper()),\n",
    "        toloka.filter.ClientType.eq(toloka.filter.ClientType.ClientType.BROWSER),\n",
    "        toloka.filter.Skill(summ_skill.id).eq(100)\n",
    "    ])\n",
    ")\n",
    "\n",
    "# Setting task mixing configuration\n",
    "summarization_pool.set_mixer_config(\n",
    "    real_tasks_count=1,\n",
    "    golden_tasks_count=0,\n",
    "    training_tasks_count=0\n",
    ")\n",
    "\n",
    "\n",
    "# Setting up pool quality control\n",
    "\n",
    "# Banning performer who answers too fast\n",
    "summarization_pool.quality_control.add_action(\n",
    "    collector=toloka.collectors.AssignmentSubmitTime(\n",
    "        history_size=5, \n",
    "        fast_submit_threshold_seconds=20\n",
    "    ),\n",
    "    conditions=[toloka.conditions.FastSubmittedCount > 1],\n",
    "    action=toloka.actions.RestrictionV2(\n",
    "        scope=toloka.user_restriction.UserRestriction.PROJECT,\n",
    "        duration_unit=toloka.user_restriction.DurationUnit.PERMANENT,\n",
    "        private_comment='Fast answers'\n",
    "    )\n",
    ")\n",
    "\n",
    "# Increasing overlap for the task if the assignment was rejected\n",
    "summarization_pool.quality_control.add_action(\n",
    "    collector=toloka.collectors.AssignmentsAssessment(),\n",
    "    conditions=[toloka.conditions.AssessmentEvent == toloka.conditions.AssessmentEvent.REJECT],\n",
    "    action=toloka.actions.ChangeOverlap(delta=1, open_pool=True)\n",
    ")"
   ]
  },
  {
   "cell_type": "code",
   "execution_count": null,
   "metadata": {},
   "outputs": [],
   "source": [
    "summarization_pool = toloka_client.create_pool(summarization_pool)\n",
    "print(f'Created training pool with id {summarization_pool.id}')\n",
    "print(f'For preview your pool open {domain}/requester/project/{summarization_pool.id}/pool/{summarization_pool.id}')"
   ]
  },
  {
   "cell_type": "markdown",
   "metadata": {},
   "source": [
    "### 3.1. Validation for small paragraphs"
   ]
  },
  {
   "cell_type": "markdown",
   "metadata": {},
   "source": [
    "Since not everyone performs the task well, we need to add validation of the results obtained.\n",
    "\n",
    "We asked other performers few questions about quality of summarizaion. And after that we will accept risults with high quallity and decline result with low.\n",
    "\n",
    "**We recommend using some golden tasks in this project**"
   ]
  },
  {
   "cell_type": "markdown",
   "metadata": {},
   "source": [
    "<table  align=\"center\">\n",
    "  <tr><td>\n",
    "    <img src=\"./pictures/validation.png\"\n",
    "         alt=\"Pipeline\"  width=\"1200\">\n",
    "  </td></tr>\n",
    "</table>"
   ]
  },
  {
   "cell_type": "code",
   "execution_count": null,
   "metadata": {},
   "outputs": [],
   "source": [
    "with open(f\"projects/validation_small/{LANGUAGE}/page.css\", \"r\", encoding=\"utf-8\") as f:\n",
    "    validation_page_styles = f.read()\n",
    "\n",
    "with open(f\"projects/validation_small/{LANGUAGE}/page.html\", \"r\", encoding=\"utf-8\") as f:\n",
    "    validation_page_text = f.read()\n",
    "    \n",
    "with open(f\"projects/validation_small/{LANGUAGE}/page.css\", \"r\", encoding=\"utf-8\") as f:\n",
    "    validation_page_script = f.read()\n",
    "\n",
    "validation_input_spec = {\n",
    "    \"summary\": toloka.project.field_spec.StringSpec(required=True),\n",
    "    \"text_id\": toloka.project.field_spec.IntegerSpec(required=True),\n",
    "    \"paragraph\": toloka.project.field_spec.StringSpec(required=True),\n",
    "    \"paragraph_id\": toloka.project.field_spec.IntegerSpec(required=True),\n",
    "    \"text_full\": toloka.project.field_spec.StringSpec(required=True),\n",
    "    \"assignment_id\": toloka.project.field_spec.StringSpec(required=True),\n",
    "}\n",
    "\n",
    "validation_output_spec = {\n",
    "    'theme': toloka.project.field_spec.BoolSpec(required=True),\n",
    "    'correct': toloka.project.field_spec.BoolSpec(required=True),\n",
    "    'quality': toloka.project.field_spec.BoolSpec(required=True),\n",
    "    'original': toloka.project.field_spec.BoolSpec(required=True),\n",
    "}\n",
    "\n",
    "validation_view_spec = toloka.project.view_spec.ClassicViewSpec(\n",
    "    script=validation_page_script,\n",
    "    markup=validation_page_text,\n",
    "    styles=validation_page_styles,\n",
    "    assets=toloka.project.view_spec.ClassicViewSpec.Assets(\n",
    "            script_urls=[\"$TOLOKA_ASSETS/js/toloka-handlebars-templates.js\"]\n",
    "        )\n",
    ")\n",
    "\n",
    "validation_project = toloka.project.Project(\n",
    "    assignments_issuing_type=toloka.project.Project.AssignmentsIssuingType.AUTOMATED,\n",
    "    public_name=open(f\"projects/validation_small/{LANGUAGE}/name.txt\", encoding=\"utf-8\").read().strip(),\n",
    "    public_description=open(f\"projects/validation_small/{LANGUAGE}/comment.txt\", encoding=\"utf-8\").read().strip(),\n",
    "    public_instructions=open(f\"projects/validation_small/{LANGUAGE}/instruction.html\", encoding=\"utf-8\").read().strip(),\n",
    "    \n",
    "    task_spec=toloka.project.task_spec.TaskSpec(\n",
    "        input_spec=validation_input_spec,\n",
    "        output_spec=validation_output_spec,\n",
    "        view_spec=validation_view_spec,\n",
    "    ),\n",
    ")"
   ]
  },
  {
   "cell_type": "code",
   "execution_count": null,
   "metadata": {},
   "outputs": [],
   "source": [
    "# Create project on your account at toloka.yandex.com\n",
    "validation_project = toloka_client.create_project(validation_project)\n",
    "print(f'Created prevalidation project with id {validation_project.id}')\n",
    "print(f'For preview your project open {domain}/requester/project/{validation_project.id}')"
   ]
  },
  {
   "cell_type": "markdown",
   "metadata": {},
   "source": [
    "### Validation pool"
   ]
  },
  {
   "cell_type": "code",
   "execution_count": null,
   "metadata": {},
   "outputs": [],
   "source": [
    "# Setting up pool\n",
    "validation_pool = toloka.pool.Pool(\n",
    "    project_id=validation_project.id,\n",
    "    private_name='Validation after summarizing',\n",
    "    may_contain_adult_content=True,\n",
    "    will_expire=datetime.datetime.utcnow() + datetime.timedelta(days=365),\n",
    "    reward_per_assignment=0.01,\n",
    "    auto_accept_solutions=True,\n",
    "    assignment_max_duration_seconds=60*15,\n",
    "    defaults=toloka.pool.Pool.Defaults(\n",
    "        default_overlap_for_new_task_suites=3\n",
    "    ),\n",
    "    filter=toloka.filter.FilterAnd([\n",
    "        toloka.filter.Languages.in_(LANGUAGE.upper()),\n",
    "        toloka.filter.ClientType.eq(toloka.filter.ClientType.ClientType.BROWSER),\n",
    "        toloka.filter.Skill(summ_skill.id).eq(100)\n",
    "    ])\n",
    ")\n",
    "\n",
    "# Setting task mixing configuration\n",
    "validation_pool.set_mixer_config(\n",
    "    real_tasks_count=5,\n",
    "    golden_tasks_count=0,\n",
    "    training_tasks_count=0\n",
    ")"
   ]
  },
  {
   "cell_type": "code",
   "execution_count": null,
   "metadata": {},
   "outputs": [],
   "source": [
    "validation_pool = toloka_client.create_pool(validation_pool)\n",
    "print(f'Created training pool with id {validation_pool.id}')\n",
    "print(f'For preview your pool open {domain}/requester/project/{validation_pool.id}/pool/{validation_pool.id}')"
   ]
  },
  {
   "cell_type": "markdown",
   "metadata": {},
   "source": [
    "### 4. Choose best of 2"
   ]
  },
  {
   "cell_type": "markdown",
   "metadata": {},
   "source": [
    "We collect 2 examples of summarization for every paragraph, and at this step we want to choose best of them.\n",
    "\n",
    "For these reason we have project looks like our training.\n",
    "\n",
    "<table  align=\"center\">\n",
    "  <tr><td>\n",
    "    <img src=\"./pictures/choose_best.png\"\n",
    "         alt=\"Pipeline\"  width=\"1200\">\n",
    "  </td></tr>\n",
    "</table>"
   ]
  },
  {
   "cell_type": "code",
   "execution_count": null,
   "metadata": {},
   "outputs": [],
   "source": [
    "with open(f\"projects/choose_best/{LANGUAGE}/page.css\", \"r\", encoding=\"utf-8\") as f:\n",
    "    choose_best_page_styles = f.read()\n",
    "\n",
    "with open(f\"projects/choose_best/{LANGUAGE}/page.html\", \"r\", encoding=\"utf-8\") as f:\n",
    "    choose_best_page_text = f.read()\n",
    "    \n",
    "with open(f\"projects/choose_best/{LANGUAGE}/page.css\", \"r\", encoding=\"utf-8\") as f:\n",
    "    choose_best_page_script = f.read()\n",
    "\n",
    "# You can add more summaries at these task, if you have overlap greater than 2 \n",
    "choose_best_input_spec = {\n",
    "    \"text_id\": toloka.project.field_spec.IntegerSpec(required=True),\n",
    "    \"summary1\": toloka.project.field_spec.StringSpec(required=True),\n",
    "    \"summary2\": toloka.project.field_spec.StringSpec(required=True),\n",
    "    #\"summary3\": toloka.project.field_spec.StringSpec(required=False),\n",
    "    #\"summary4\": toloka.project.field_spec.StringSpec(required=False),\n",
    "    \"paragraph\": toloka.project.field_spec.StringSpec(required=True),\n",
    "    \"paragraph_id\": toloka.project.field_spec.IntegerSpec(required=True),\n",
    "}\n",
    "\n",
    "choose_best_output_spec = {\n",
    "    'result': toloka.project.field_spec.IntSpec(required=True),\n",
    "}\n",
    "\n",
    "choose_best_view_spec = toloka.project.view_spec.ClassicViewSpec(\n",
    "    script=choose_best_page_script,\n",
    "    markup=choose_best_page_text,\n",
    "    styles=choose_best_page_styles,\n",
    "    assets=toloka.project.view_spec.ClassicViewSpec.Assets(\n",
    "            script_urls=[\"$TOLOKA_ASSETS/js/toloka-handlebars-templates.js\"]\n",
    "        )\n",
    ")\n",
    "\n",
    "choose_best_project = toloka.project.Project(\n",
    "    assignments_issuing_type=toloka.project.Project.AssignmentsIssuingType.AUTOMATED,\n",
    "    public_name=open(f\"projects/choose_best/{LANGUAGE}/name.txt\", encoding=\"utf-8\").read().strip(),\n",
    "    public_description=open(f\"projects/choose_best/{LANGUAGE}/comment.txt\", encoding=\"utf-8\").read().strip(),\n",
    "    public_instructions=open(f\"projects/choose_best/{LANGUAGE}/instruction.html\", encoding=\"utf-8\").read().strip(),\n",
    "    \n",
    "    task_spec=toloka.project.task_spec.TaskSpec(\n",
    "        input_spec=choose_best_spec,\n",
    "        output_spec=choose_best_spec,\n",
    "        view_spec=choose_best_spec,\n",
    "    ),\n",
    ")"
   ]
  },
  {
   "cell_type": "code",
   "execution_count": null,
   "metadata": {},
   "outputs": [],
   "source": [
    "# Create project on your account at toloka.yandex.com\n",
    "choose_best_project = toloka_client.create_project(choose_best_project)\n",
    "print(f'Created prevalidation project with id {choose_best_project.id}')\n",
    "print(f'For preview your project open {domain}/requester/project/{choose_best_project.id}')"
   ]
  },
  {
   "cell_type": "markdown",
   "metadata": {},
   "source": [
    "### \"Choose best\" pool"
   ]
  },
  {
   "cell_type": "code",
   "execution_count": null,
   "metadata": {},
   "outputs": [],
   "source": [
    "# Setting up pool\n",
    "choose_best_pool = toloka.pool.Pool(\n",
    "    project_id=validation_project.id,\n",
    "    private_name='Choosing best summary',\n",
    "    may_contain_adult_content=True,\n",
    "    will_expire=datetime.datetime.utcnow() + datetime.timedelta(days=365),\n",
    "    reward_per_assignment=0.01,\n",
    "    auto_accept_solutions=True,\n",
    "    assignment_max_duration_seconds=60*15,\n",
    "    defaults=toloka.pool.Pool.Defaults(\n",
    "        default_overlap_for_new_task_suites=3\n",
    "    ),\n",
    "    filter=toloka.filter.FilterAnd([\n",
    "        toloka.filter.Languages.in_(LANGUAGE.upper()),\n",
    "        toloka.filter.ClientType.eq(toloka.filter.ClientType.ClientType.BROWSER),\n",
    "        toloka.filter.Skill(summ_skill.id).eq(100)\n",
    "    ])\n",
    ")\n",
    "\n",
    "choose_best_pool.quality_control.add_action(\n",
    "    collector=toloka.collectors.MajorityVote(answer_threshold=2),\n",
    "    conditions=[\n",
    "        toloka.conditions.TotalAnswersCount > 7,\n",
    "        toloka.conditions.CorrectAnswersRate < 60,\n",
    "    ],\n",
    "    action=toloka.actions.RejectAllAssignments(public_comment='Too low quality')\n",
    ")\n",
    "\n",
    "# Setting task mixing configuration\n",
    "choose_best_pool.set_mixer_config(\n",
    "    real_tasks_count=10,\n",
    "    golden_tasks_count=0,\n",
    "    training_tasks_count=0\n",
    ")"
   ]
  },
  {
   "cell_type": "code",
   "execution_count": null,
   "metadata": {},
   "outputs": [],
   "source": [
    "choose_best_pool = toloka_client.create_pool(choose_best_pool)\n",
    "print(f'Created training pool with id {choose_best_pool.id}')\n",
    "print(f'For preview your pool open {domain}/requester/project/{choose_best_pool.id}/pool/{choose_best_pool.id}')"
   ]
  },
  {
   "cell_type": "markdown",
   "metadata": {},
   "source": [
    "### Run pools"
   ]
  },
  {
   "cell_type": "code",
   "execution_count": null,
   "metadata": {},
   "outputs": [],
   "source": [
    "def texts_to_prevalidate_tasks(texts):\n",
    "    task = []\n",
    "    for text, text_id in texts:\n",
    "        task = toloka.task.Task(\n",
    "            input_values={\n",
    "                'text': text,\n",
    "                'text_id': text_id,\n",
    "            }\n",
    "            pool_id=prevalidation_pool.id\n",
    "        )\n",
    "    return tasks"
   ]
  },
  {
   "cell_type": "code",
   "execution_count": null,
   "metadata": {},
   "outputs": [],
   "source": [
    "preval_tasks = texts_to_prevalidate_tasks(texts)\n",
    "tasks_op_preval = toloka_client.create_tasks_async(tasks, allow_defaults=True)\n",
    "toloka_client.wait_operation(tasks_op_preval)"
   ]
  },
  {
   "cell_type": "code",
   "execution_count": null,
   "metadata": {},
   "outputs": [],
   "source": [
    "def split_to_paragraphs(text):\n",
    "    max_paragraph_size = 1500\n",
    "    prepared = []\n",
    "    paragraphs = text.split(\"<br>\")\n",
    "\n",
    "    cur_paragraph = \"\"\n",
    "    for paragraph in paragraphs:\n",
    "        if not cur_paragraph or len(cur_paragraph) + len(paragraph) < max_paragraph_size:\n",
    "            cur_paragraph += \"<br>\" + paragraph\n",
    "        else:\n",
    "            prepared.append(cur_paragraph)\n",
    "            cur_paragraph = paragraph\n",
    "    prepared.append(cur_paragraph)\n",
    "\n",
    "    return prepared\n",
    "\n",
    "def text_to_task(text, text_id):\n",
    "    tasks_by_text = []\n",
    "    paragraphs = split_to_paragraphs(text)\n",
    "    for i, paragraph in enumerate(paragraphs):                \n",
    "        text_full = '<br>'.join(paragraphs[:i]) + \\\n",
    "                    f'<br><b> {paragraph} </b><br>' + \\\n",
    "                    '<br>'.join(paragraphs[i+1:])\n",
    "        task = toloka.task.Task(\n",
    "                    input_values={\n",
    "                        'text_id': paragraph['context'],\n",
    "                        'paragraph': paragraph,\n",
    "                        'text_full': text_full,\n",
    "                        'paragraph_id': i\n",
    "                    },\n",
    "                    pool_id = summarization_pool.id,\n",
    "                )\n",
    "        tasks_by_text.append(task)\n",
    "    return tasks_by_text"
   ]
  },
  {
   "cell_type": "code",
   "execution_count": null,
   "metadata": {},
   "outputs": [],
   "source": [
    "tasks = []\n",
    "for text, text_id in texts:\n",
    "    tasks_by_text = text_to_task(text, text_id)\n",
    "    for task in tasks_by_text:\n",
    "        tasks.append(text_to_task(text, text_id))"
   ]
  },
  {
   "cell_type": "code",
   "execution_count": null,
   "metadata": {},
   "outputs": [],
   "source": [
    "tasks_op = toloka_client.create_tasks_async(tasks, allow_defaults=True)\n",
    "toloka_client.wait_operation(tasks_op)"
   ]
  },
  {
   "cell_type": "code",
   "execution_count": null,
   "metadata": {},
   "outputs": [],
   "source": [
    "def wait_pool_for_close(pool):\n",
    "    sleep_time = 60\n",
    "    pool = toloka_client.get_pool(pool.id)\n",
    "    while not pool.is_closed():\n",
    "        print(\n",
    "            f'\\t{datetime.datetime.now().strftime(\"%H:%M:%S\")}\\t'\n",
    "            f'Pool {pool.id} has status {pool.status}.'\n",
    "        )\n",
    "        time.sleep(sleep_time)\n",
    "        pool = toloka_client.get_pool(pool.id)\n",
    "\n",
    "\n",
    "\n",
    "def prepare_validation_tasks():\n",
    "    validation_tasks = []\n",
    "    request = toloka.search_requests.AssignmentSearchRequest(\n",
    "        status=toloka.assignment.Assignment.SUBMITTED,  # Only take completed tasks that haven't been accepted or rejected\n",
    "        pool_id=summarization_pool.id,\n",
    "    )\n",
    "    # Create and store new tasks\n",
    "    for assignment in toloka_client.get_assignments(request):\n",
    "        for task, solution in zip(assignment.tasks, assignment.solutions):\n",
    "            validation_tasks.append(\n",
    "                toloka.task.Task(\n",
    "                    input_values={\n",
    "                        'summary': solution.output_values['summary'],\n",
    "                        'text_id': task.input_values['text_id'],\n",
    "                        'paragraph': task.input_values['paragraph'],\n",
    "                        'text_full': task.input_values['text_full'],\n",
    "                        'paragraph_id': task.input_values['paragraph_id'],\n",
    "                        'assignment_id': assignment.id,\n",
    "                    },\n",
    "                    pool_id=val_pool.id,\n",
    "                )\n",
    "            )\n",
    "    print(f'Generate {len(validation_tasks)} new validation tasks')\n",
    "    return validation_tasks\n",
    "\n",
    "\n",
    "\n",
    "def run_validation_pool(validation_tasks):\n",
    "    validation_tasks_op = toloka_client.create_tasks_async(\n",
    "        validation_tasks,\n",
    "        toloka.task.CreateTasksParameters(allow_defaults=True)\n",
    "    )\n",
    "    toloka_client.wait_operation(validation_tasks_op)\n",
    "    validation_tasks_result = [task for task in toloka_client.get_tasks(pool_id=validation_pool.id) if not task.known_solutions]\n",
    "\n",
    "    task_to_assignment = {}\n",
    "    for task in validation_tasks_result:\n",
    "        task_to_assignment[task.id] = task.input_values['assignment_id']\n",
    "\n",
    "    # Open the validation pool\n",
    "    run_pool2_operation = toloka_client.open_pool(validation_pool.id)\n",
    "    run_pool2_operation = toloka_client.wait_operation(run_pool2_operation)\n",
    "    print(f'Validation pool status - {run_pool2_operation.status}')\n",
    "    return task_to_assignment\n",
    "\n",
    "\n",
    "def get_aggregation_results():\n",
    "    print('Start aggregation in the validation pool')\n",
    "    aggregation_operation = toloka_client.aggregate_solutions_by_pool(\n",
    "        type='DAWID_SKENE',\n",
    "        pool_id=validation_pool.id,\n",
    "        fields=[toloka.aggregation.PoolAggregatedSolutionRequest.Field(name='is_correct')]\n",
    "    )\n",
    "    aggregation_operation = toloka_client.wait_operation(aggregation_operation)\n",
    "    print('Results aggregated')\n",
    "\n",
    "    aggregation_result = toloka_client.find_aggregated_solutions(aggregation_operation.id)\n",
    "    validation_results = aggregation_result.items\n",
    "    while aggregation_result.has_more:\n",
    "        aggregation_result = toloka_client.find_aggregated_solutions(\n",
    "            aggregation_operation.id,\n",
    "            task_id_gt=aggregation_result.items[len(aggregation_result.items) - 1].task_id,\n",
    "        )\n",
    "        validation_results = validation_results + aggregation_result.items\n",
    "    return validation_results\n",
    "\n",
    "\n",
    "def set_answers_status(validation_results):\n",
    "    print('Started adding results to marking tasks')\n",
    "    assignment_results = dict()\n",
    "    for r in validation_results:\n",
    "        if r.task_id not in task_to_assignment:\n",
    "            continue\n",
    "\n",
    "        assignment_id = task_to_assignment[r.task_id]\n",
    "        assignment_result = assignment_results.get(assignment_id, 0)\n",
    "\n",
    "        # Increase the number of correct tasks in assignment\n",
    "        if r.output_values['is_correct'] == 'yes':\n",
    "            assignment_result += 1\n",
    "\n",
    "        assignment_results[assignment_id] = assignment_result\n",
    "\n",
    "    for assignment_id, correct_num in assignment_results.items():\n",
    "        assignment = toloka_client.get_assignment(assignment_id)\n",
    "        if assignment.status.value == 'SUBMITTED':\n",
    "            # If 4 or 5 tasks in the assignment was marked as correct then we will accept the assignment\n",
    "            if correct_num >= 4:\n",
    "                toloka_client.accept_assignment(assignment_id, 'Well done!')\n",
    "            else:\n",
    "                toloka_client.reject_assignment(assignment_id, 'Incorrect answers')\n",
    "    print('Finished adding results to marking tasks')"
   ]
  },
  {
   "cell_type": "code",
   "execution_count": null,
   "metadata": {},
   "outputs": [],
   "source": [
    "toloka_client.open_pool(training_pool.id)\n",
    "toloka_client.open_pool(summarization_pool.id)\n",
    "toloka_client.open_pool(validation_pool.id)"
   ]
  },
  {
   "cell_type": "code",
   "execution_count": null,
   "metadata": {},
   "outputs": [],
   "source": [
    "# Run the pipeline\n",
    "while True:\n",
    "    print('\\nWaiting for summarization pool to close')\n",
    "    wait_pool_for_close(summarization_pool)\n",
    "    print(f'Summarization pool {summarization_pool.id} is finally closed!')\n",
    "\n",
    "    # Preparing tasks\n",
    "    validation_tasks = prepare_validation_tasks()\n",
    "\n",
    "    # Make sure all the tasks are done\n",
    "    if not validation_tasks:\n",
    "        print('All the tasks in our project are done')\n",
    "        break\n",
    "\n",
    "    # Add it to the pool and run the pool\n",
    "    task_to_assignment = run_validation_pool(validation_tasks)\n",
    "\n",
    "    print('\\nWaiting for validation pool to close')\n",
    "    wait_pool_for_close(validation_pool)\n",
    "    print(f'Validation pool {validation_pool.id} is finally closed!')\n",
    "\n",
    "    # Aggregation operation\n",
    "    validation_results = get_aggregation_results()\n",
    "    # Reject or accept tasks in the segmentation pool\n",
    "    set_answers_status(validation_results)\n",
    "\n",
    "\n",
    "print(f'Results received at {datetime.datetime.now()}')"
   ]
  }
 ],
 "metadata": {
  "kernelspec": {
   "display_name": "Python 3",
   "language": "python",
   "name": "python3"
  },
  "language_info": {
   "codemirror_mode": {
    "name": "ipython",
    "version": 3
   },
   "file_extension": ".py",
   "mimetype": "text/x-python",
   "name": "python",
   "nbconvert_exporter": "python",
   "pygments_lexer": "ipython3",
   "version": "3.8.5"
  }
 },
 "nbformat": 4,
 "nbformat_minor": 4
}
